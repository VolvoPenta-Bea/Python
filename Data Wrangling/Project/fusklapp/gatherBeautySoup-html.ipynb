{
 "cells": [
  {
   "cell_type": "markdown",
   "metadata": {},
   "source": [
    "## Quiz"
   ]
  },
  {
   "cell_type": "code",
   "execution_count": 3,
   "metadata": {},
   "outputs": [],
   "source": [
    "from bs4 import BeautifulSoup\n",
    "import os\n",
    "import pandas as pd"
   ]
  },
  {
   "cell_type": "code",
   "execution_count": 15,
   "metadata": {},
   "outputs": [],
   "source": [
    "# List of dictionaries to build file by file and later convert to a DataFrame\n",
    "df_list = []\n",
    "folder = 'rt_html'\n",
    "for movie_html in os.listdir(folder):\n",
    "    with open(os.path.join(folder, movie_html)) as file:\n",
    "        # Your code here\n",
    "        # Note: a correct implementation may take ~15 seconds to run\n",
    "        soup = BeautifulSoup(file, 'lxml')\n",
    "        title = soup.find('title').contents[0][:len(' - Rotten Tomatoes')]\n",
    "        audience_score = soup.find('div', class_ = 'audience-score meter').find('span').contents[0][:-1]#finding child in parent. access only contents of tag. slice percentage sign\n",
    "        num_audience_ratings = soup.find('div', class_ = 'audience-info hidden-xs superPageFontColor') #start with this to see how it looks like\n",
    "        num_audience_ratings = num_audience_ratings.find_all('div')[1].contents[2].strip().replace(',','') #first square brackets shows the second div within the div. the second takes the third content, strip removes unnecessary whitespace. replace fix comma as thousand separator to nospace\n",
    "        #now left to do is to append to our df_list\n",
    "        df_list.append({'title': title,\n",
    "                       'audience_score': int(audience_score),\n",
    "                       'number_of_audience_ratings': int(num_audience_ratings)})\n",
    "#create pandas dataframe from the list and specify the columns order\n",
    "df = pd.DataFrame(df_list, columns = ['title', 'audience_score', 'number_of_audience_ratings'])"
   ]
  },
  {
   "cell_type": "code",
   "execution_count": 19,
   "metadata": {},
   "outputs": [
    {
     "data": {
      "text/plain": [
       "<bound method DataFrame.info of                  title  audience_score  number_of_audience_ratings\n",
       "0   Dr. Strangelove Or              94                      208215\n",
       "1   Frankenstein (1931              87                       41140\n",
       "2   All About Eve (195              94                       44564\n",
       "3   Roman Holiday (195              94                       62895\n",
       "4   The Night of the H              90                       24322\n",
       "5   Toy Story (1995) -              92                     1107731\n",
       "6   The Treasure of th              93                       25627\n",
       "7   Skyfall (2012) - R              86                      372497\n",
       "8   The Wrestler (2008              88                      139795\n",
       "9   Star Trek (2009) -              91                      746458\n",
       "10  The Dark Knight (2              94                     1827436\n",
       "11  The Adventures of               89                       33584\n",
       "12  The Wages of Fear               95                        8536\n",
       "13  Rosemary's Baby (1              87                       72669\n",
       "14  The Cabinet of Dr.              89                       27163\n",
       "15  L.A. Confidential               94                      149772\n",
       "16  Star Wars: Episode              89                      222789\n",
       "17  Army of Shadows (L              94                        7011\n",
       "18  Rashômon (1951) -               93                       47657\n",
       "19  Pinocchio (1940) -              72                      278682\n",
       "20  Repulsion (1965) -              87                       18655\n",
       "21  Jaws (1975) - Rott              90                      942217\n",
       "22  The Wizard of Oz (              89                      874425\n",
       "23  The 400 Blows (Les              94                       38368\n",
       "24  Hell or High Water              88                       37738\n",
       "25  La La Land (2016)               82                       67325\n",
       "26  Manchester by the               77                       48189\n",
       "27  Harry Potter and t              89                      389431\n",
       "28  High Noon (1952) -              89                       25065\n",
       "29  Taxi Driver (1976)              93                      258405\n",
       "..                 ...             ...                         ...\n",
       "70  The Babadook (2014              72                       37024\n",
       "71  The Grapes of Wrat              88                       23954\n",
       "72  It Happened One Ni              93                       33106\n",
       "73  The Big Sick (2017              90                       23391\n",
       "74  On the Waterfront               95                       51664\n",
       "75  Singin' in the Rai              95                      137643\n",
       "76  Man on Wire (2008)              87                       29827\n",
       "77  La Grande illusion              92                       11490\n",
       "78  Open City (1946) -              92                        6128\n",
       "79  Snow White and the              78                      469510\n",
       "80  Rear Window (1954)              95                      149458\n",
       "81  M (1931) - Rotten               95                       35778\n",
       "82  Brooklyn (2015) -               87                       45763\n",
       "83  Toy Story 2 (1999)              86                      998186\n",
       "84  The 39 Steps (1935              86                       23647\n",
       "85  Finding Nemo (2003              86                    33355673\n",
       "86  Psycho (1960) - Ro              94                      238259\n",
       "87  E.T. The Extra-Ter              72                    32313030\n",
       "88  Metropolis (1927)               92                       62018\n",
       "89  The Battle of Algi              95                       14267\n",
       "90  The Bride of Frank              87                       24471\n",
       "91  A Hard Day's Night              89                       50067\n",
       "92  Touch of Evil (195              92                       30867\n",
       "93  The Good, the Bad               97                      238420\n",
       "94  Vertigo (1958) - R              93                      101454\n",
       "95  The Godfather, Par              97                      409574\n",
       "96  Up (2009) - Rotten              90                     1201878\n",
       "97  The Jungle Book (2              86                       92856\n",
       "98  Get Out (2017) - R              87                       63837\n",
       "99  King Kong (1933) -              86                       89669\n",
       "\n",
       "[100 rows x 3 columns]>"
      ]
     },
     "execution_count": 19,
     "metadata": {},
     "output_type": "execute_result"
    }
   ],
   "source": [
    "df.info"
   ]
  },
  {
   "cell_type": "markdown",
   "metadata": {},
   "source": [
    "## Solution Test\n",
    "Run the cell below the see if your solution is correct. If an `AssertionError` is thrown, your solution is incorrect. If no error is thrown, your solution is correct."
   ]
  },
  {
   "cell_type": "code",
   "execution_count": null,
   "metadata": {
    "collapsed": true
   },
   "outputs": [],
   "source": [
    "df_solution = pd.read_pickle('df_solution.pkl')\n",
    "df.sort_values('title', inplace = True)\n",
    "df.reset_index(inplace = True, drop = True)\n",
    "df_solution.sort_values('title', inplace = True)\n",
    "df_solution.reset_index(inplace = True, drop = True)\n",
    "pd.testing.assert_frame_equal(df, df_solution)"
   ]
  }
 ],
 "metadata": {
  "kernelspec": {
   "display_name": "Python 3",
   "language": "python",
   "name": "python3"
  },
  "language_info": {
   "codemirror_mode": {
    "name": "ipython",
    "version": 3
   },
   "file_extension": ".py",
   "mimetype": "text/x-python",
   "name": "python",
   "nbconvert_exporter": "python",
   "pygments_lexer": "ipython3",
   "version": "3.6.3"
  }
 },
 "nbformat": 4,
 "nbformat_minor": 2
}
