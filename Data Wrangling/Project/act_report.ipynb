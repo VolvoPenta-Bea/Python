{
 "cells": [
  {
   "cell_type": "markdown",
   "metadata": {},
   "source": [
    "## Report: act_report\n",
    "* Create a **250-word-minimum written report** called \"act_report.pdf\" or \"act_report.html\" that communicates the insights and displays the visualization(s) produced from your wrangled data. This is to be framed as an external document, like a blog post or magazine article, for example."
   ]
  },
  {
   "cell_type": "markdown",
   "metadata": {},
   "source": [
    "### We Rate Dogs - a barky tweet thing\n",
    "\n",
    "By combining data from Twitter with an Udacity student made AI generated dataset that retrieved the image from all We Rate Dogs tweets and guessed the breed we found some interesting facts about breed popularity. \n",
    "\n",
    "I gathered one csv file, one tsv and a json like text file and assessed and cleaned them with python in Jupyter Notebook. I used group by and matplotlib visualization to look at what breed is the most popular among all the tweets, and is that the same breed for retweets. I also looked at if there were differences which day of the week the tweet went out. \n",
    "The most popular breed is actually no breed ( or at least not according to the AI, observing the images manually shows most of no breed images do has a dog in them, yet a small portion of the image)\n",
    "\n",
    "Golden Retriever is the most popular retweeted breed though and no breed labeled is number two\n",
    "Most popular day of the week to tweet is Wednesday and the least is Sunday. Wednesday is also the day people favorite WeRateDogs the most\n",
    "\n",
    "Following visualization shows how the number of favorites count per tweet has changed from Nov 2015 to July 2017. It is clear that We Rate Dogs has a continuously growing fan base as when we can see an upgoing trend. Starting from 0 favorites and now and in 2017 being around 30000. The spikes can indicate certain posts that have gone viral which might be a topic looking into for the next blog post. \n",
    "\n",
    "\n",
    "\n"
   ]
  }
 ],
 "metadata": {
  "kernelspec": {
   "display_name": "Python 3 (ipykernel)",
   "language": "python",
   "name": "python3"
  },
  "language_info": {
   "codemirror_mode": {
    "name": "ipython",
    "version": 3
   },
   "file_extension": ".py",
   "mimetype": "text/x-python",
   "name": "python",
   "nbconvert_exporter": "python",
   "pygments_lexer": "ipython3",
   "version": "3.10.8"
  }
 },
 "nbformat": 4,
 "nbformat_minor": 2
}
